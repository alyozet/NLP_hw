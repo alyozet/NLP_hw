{
  "nbformat": 4,
  "nbformat_minor": 0,
  "metadata": {
    "colab": {
      "name": "nlp_project.ipynb",
      "provenance": [],
      "toc_visible": true
    },
    "kernelspec": {
      "name": "python3",
      "display_name": "Python 3"
    }
  },
  "cells": [
    {
      "cell_type": "code",
      "metadata": {
        "id": "kgovsIY5tcMU",
        "outputId": "03bde6b4-da46-42da-d7d4-c4a34919c45b",
        "colab": {
          "base_uri": "https://localhost:8080/",
          "height": 126
        }
      },
      "source": [
        "!pip install requests"
      ],
      "execution_count": 1,
      "outputs": [
        {
          "output_type": "stream",
          "text": [
            "Requirement already satisfied: requests in /usr/local/lib/python3.6/dist-packages (2.23.0)\n",
            "Requirement already satisfied: idna<3,>=2.5 in /usr/local/lib/python3.6/dist-packages (from requests) (2.10)\n",
            "Requirement already satisfied: urllib3!=1.25.0,!=1.25.1,<1.26,>=1.21.1 in /usr/local/lib/python3.6/dist-packages (from requests) (1.24.3)\n",
            "Requirement already satisfied: certifi>=2017.4.17 in /usr/local/lib/python3.6/dist-packages (from requests) (2020.6.20)\n",
            "Requirement already satisfied: chardet<4,>=3.0.2 in /usr/local/lib/python3.6/dist-packages (from requests) (3.0.4)\n"
          ],
          "name": "stdout"
        }
      ]
    },
    {
      "cell_type": "code",
      "metadata": {
        "id": "GQn8qIRGt1q1"
      },
      "source": [
        "import requests\n",
        "import re"
      ],
      "execution_count": 2,
      "outputs": []
    },
    {
      "cell_type": "code",
      "metadata": {
        "id": "QYNrusqut3GT"
      },
      "source": [
        "def links_collect_esenin():\n",
        "  result = requests.get('https://ilibrary.ru/author/esenin/l.all/index.html')\n",
        "  prob = result.text\n",
        "  links = re.search('<span class=\"azh\">Полный&nbsp;список</span></div><span id=\"text\"><div style=\"margin: 0em 0em 2em\">(.*?)<div style', prob, flags=re.DOTALL)\n",
        "  l = links.group(0)\n",
        "  all_li = re.compile('<a href=\"(.*?)\">', flags=re.DOTALL)\n",
        "  links = all_li.findall(l)\n",
        "  li = []\n",
        "  for i in links:\n",
        "    li.append('https://ilibrary.ru'+i[:-10]+'p.1/index.html')\n",
        "  return(li)"
      ],
      "execution_count": 3,
      "outputs": []
    },
    {
      "cell_type": "code",
      "metadata": {
        "id": "w-El0eUWHmGf"
      },
      "source": [
        "def links_collect_krug():\n",
        "  result = requests.get('https://www.mkrug.ru/txt/')\n",
        "  #result.encoding = 'utf-8'\n",
        "  prob = result.text\n",
        "  links = re.findall('<p><a href=(.*?)>(.*?)</a>', prob, flags=re.DOTALL)\n",
        "  l = [[a[0], a[1]] for a in links]\n",
        "  li = []\n",
        "  for i in l:\n",
        "    li.append(['https://www.mkrug.ru/txt/'+i[0], i[1]])\n",
        "  return(li)"
      ],
      "execution_count": 4,
      "outputs": []
    },
    {
      "cell_type": "code",
      "metadata": {
        "id": "b41q0B1BwoWH"
      },
      "source": [
        "l_e = links_collect_esenin()\n",
        "l_k = links_collect_krug()"
      ],
      "execution_count": 5,
      "outputs": []
    },
    {
      "cell_type": "code",
      "metadata": {
        "id": "sUz5eAo6zSvG"
      },
      "source": [
        "def htmls_collect(links):\n",
        "  htmls = []\n",
        "  for i in links:\n",
        "    result = requests.get(i)\n",
        "    prob = result.text\n",
        "    #print(i)\n",
        "    htmls.append(prob)\n",
        "  return(htmls)"
      ],
      "execution_count": 7,
      "outputs": []
    },
    {
      "cell_type": "code",
      "metadata": {
        "id": "WCQcpOryzhaF"
      },
      "source": [
        "e_htmls = htmls_collect(l_e)\n",
        "k_htmls = htmls_collect([l[0] for l in l_k])"
      ],
      "execution_count": 10,
      "outputs": []
    },
    {
      "cell_type": "code",
      "metadata": {
        "id": "uoa5YR70zoQH"
      },
      "source": [
        "def e_texts_get(htmls):\n",
        "  texts = []\n",
        "  for i in htmls:\n",
        "    if 'стр. ' not in i:\n",
        "      t = re.search('<span class=\"vl\">(.*?)<div id=\"tbd\">', i, flags=re.DOTALL).group(0)\n",
        "      word = re.compile('>(.*?)<')\n",
        "      words = word.findall(t)\n",
        "      words2 = [word for word in words if word != '']\n",
        "      text = ' '.join(words2)\n",
        "      name = re.search('<TITLE>(.*?)</TITLE>', i, flags=re.DOTALL).group(0)[7:-27]\n",
        "      name = re.sub('&.*?;', '', name)\n",
        "      text = re.sub('&.*?;', '', text)\n",
        "      text = re.sub('.....&mdash;', '', text)\n",
        "      text = re.sub('poems.push.*?;', '', text)\n",
        "      nameyear = name+' '+text[-5:-1]\n",
        "      text = text[:-6]\n",
        "      flag = False\n",
        "      for j in texts:\n",
        "        if text[20:40] in j[1]:\n",
        "          flag = True\n",
        "      if flag == False:\n",
        "        #print(nameyear)\n",
        "        texts.append([nameyear, text])\n",
        "  return(texts)    "
      ],
      "execution_count": 17,
      "outputs": []
    },
    {
      "cell_type": "code",
      "metadata": {
        "id": "DaDMjMp1JscD"
      },
      "source": [
        "def k_texts_get(htmls):\n",
        "  texts = []\n",
        "  for i in htmls:\n",
        "      t = re.search('<pre>(.*?)</pre>', i, flags=re.DOTALL).group(0)\n",
        "      x = t[5:]\n",
        "      y = x[:-6]\n",
        "      text = re.sub('Припев.*?\\n', '', y)\n",
        "      text1 = re.sub('\\r\\n', ' ', text)\n",
        "      texts.append(text1)\n",
        "  krug = []\n",
        "  for i in range(len(texts)):\n",
        "    krug.append(['Михаил Круг: '+l_k[i][1], texts[i]])\n",
        "  return(krug)    "
      ],
      "execution_count": 22,
      "outputs": []
    },
    {
      "cell_type": "code",
      "metadata": {
        "id": "n-R00Can2ypf"
      },
      "source": [
        "e_texts = e_texts_get(e_htmls)\n",
        "k_texts = k_texts_get(k_htmls)"
      ],
      "execution_count": 23,
      "outputs": []
    },
    {
      "cell_type": "code",
      "metadata": {
        "id": "gWuFCT_05Llr",
        "outputId": "b1ff677f-f59e-4df7-8228-9336fc519294",
        "colab": {
          "base_uri": "https://localhost:8080/",
          "height": 72
        }
      },
      "source": [
        "e_texts[0]"
      ],
      "execution_count": 25,
      "outputs": [
        {
          "output_type": "execute_result",
          "data": {
            "text/plain": [
              "['С. А. Есенин. Алый мрак в небесной черни.... 1915',\n",
              " 'Алый мрак в небесной черни Начертил пожаром грань. Я пришел к твоей вечерне, Полевая глухомань. Нелегка моя кошница, Но глаза синее дня. Знаю, мать-земля черница, Все мы тесная родня. Разошлись мы в даль и шири Под лазоревым крылом. Но сзовет нас из псалтыри Заревой заре псалом. И придем мы по равнинам К правде сошьего креста Светом книги голубиной Напоить свои уста. ']"
            ]
          },
          "metadata": {
            "tags": []
          },
          "execution_count": 25
        }
      ]
    },
    {
      "cell_type": "code",
      "metadata": {
        "id": "OeXC_MTmOv6z",
        "outputId": "ca400d19-baef-4d91-8550-763e4fdb957e",
        "colab": {
          "base_uri": "https://localhost:8080/",
          "height": 55
        }
      },
      "source": [
        "krug = []\n",
        "for i in range(len(ktexts)):\n",
        "  krug.append(['Михаил Круг: '+krugli[i][1], ktexts[i]])\n",
        "\n",
        "print(krug[0])"
      ],
      "execution_count": null,
      "outputs": [
        {
          "output_type": "stream",
          "text": [
            "['Михаил Круг: 1, 2, 3 по почкам', ' Ну кто бы знал, что это мент, ведь он был в штатском,  А Осип зарядил не разобрав в пылу.  И не успел он по карманам разобраться  У рaзвалившегося дяди на полу.  Как вдруг откуда-то братья его по классу,  И ну выкручивать суставы за спиной.  Он пожалел, что зарядил менту с атаса,  Уже когда попал в клоповник мусоркой.      Раз, два, три по почкам,   Раз, два, три попечени,  Потерпи браточек,   А мы тебя подлечим.  Раз, два, три по почкам,   Раз, два, три попечени,  Потерпи браточек,   Уж они тебя подлечат.   Там били так, что пару раз он отключался,  И от ударов снова приходил в себя.  А дай в обратную, так там бы о остался,  Его скормили бы как булку голубям.  И потоптались там по ребрышкам жигана,   И вбили ненависть к кокарде мусорской.  И если Ося бъет кому в табло по пъяни,   То без свидетелей и тьфу,тьфу,тьфу живой!   ']\n"
          ],
          "name": "stdout"
        }
      ]
    },
    {
      "cell_type": "code",
      "metadata": {
        "id": "moANSAnFJAGy",
        "outputId": "cc1be234-9dff-4d7c-ead1-9aeee2b8ed83",
        "colab": {
          "base_uri": "https://localhost:8080/",
          "height": 142
        }
      },
      "source": [
        "k_texts[0]"
      ],
      "execution_count": 20,
      "outputs": [
        {
          "output_type": "execute_result",
          "data": {
            "application/vnd.google.colaboratory.intrinsic+json": {
              "type": "string"
            },
            "text/plain": [
              "' Ну кто бы знал, что это мент, ведь он был в штатском,  А Осип зарядил не разобрав в пылу.  И не успел он по карманам разобраться  У рaзвалившегося дяди на полу.  Как вдруг откуда-то братья его по классу,  И ну выкручивать суставы за спиной.  Он пожалел, что зарядил менту с атаса,  Уже когда попал в клоповник мусоркой.      Раз, два, три по почкам,   Раз, два, три попечени,  Потерпи браточек,   А мы тебя подлечим.  Раз, два, три по почкам,   Раз, два, три попечени,  Потерпи браточек,   Уж они тебя подлечат.   Там били так, что пару раз он отключался,  И от ударов снова приходил в себя.  А дай в обратную, так там бы о остался,  Его скормили бы как булку голубям.  И потоптались там по ребрышкам жигана,   И вбили ненависть к кокарде мусорской.  И если Ося бъет кому в табло по пъяни,   То без свидетелей и тьфу,тьфу,тьфу живой!   '"
            ]
          },
          "metadata": {
            "tags": []
          },
          "execution_count": 20
        }
      ]
    },
    {
      "cell_type": "code",
      "metadata": {
        "id": "tMqRoppH359V"
      },
      "source": [
        "with open('esenin.txt', 'w', encoding='utf-8') as f:\n",
        "  for i in e_texts:\n",
        "    f.write(i[0]+'\\n'+i[1]+'\\n\\n')"
      ],
      "execution_count": 26,
      "outputs": []
    },
    {
      "cell_type": "code",
      "metadata": {
        "id": "b2k2tKOkOW-P"
      },
      "source": [
        "with open('krug.txt', 'w', encoding='utf-8') as f:\n",
        "  for i in k_texts:\n",
        "    f.write(i[0]+'\\n'+i[1]+'\\n\\n')"
      ],
      "execution_count": 28,
      "outputs": []
    },
    {
      "cell_type": "code",
      "metadata": {
        "id": "s8KperJG4eEX",
        "outputId": "e8d431f9-fe42-4fa8-c986-229189831ce1",
        "colab": {
          "base_uri": "https://localhost:8080/",
          "height": 70
        }
      },
      "source": [
        "from nltk import sent_tokenize\n",
        "import nltk\n",
        "nltk.download('punkt')"
      ],
      "execution_count": 29,
      "outputs": [
        {
          "output_type": "stream",
          "text": [
            "[nltk_data] Downloading package punkt to /root/nltk_data...\n",
            "[nltk_data]   Unzipping tokenizers/punkt.zip.\n"
          ],
          "name": "stdout"
        },
        {
          "output_type": "execute_result",
          "data": {
            "text/plain": [
              "True"
            ]
          },
          "metadata": {
            "tags": []
          },
          "execution_count": 29
        }
      ]
    },
    {
      "cell_type": "code",
      "metadata": {
        "id": "71P4gWJtLonw"
      },
      "source": [
        "def sentsmaker(info):\n",
        "  sents = []\n",
        "  for i in info:\n",
        "    sents.append([i[0], sent_tokenize(i[1])])\n",
        "  return(sents)"
      ],
      "execution_count": 30,
      "outputs": []
    },
    {
      "cell_type": "code",
      "metadata": {
        "id": "H7RP3Xje5Dqd"
      },
      "source": [
        "krugsents = sentsmaker(k_texts)\n",
        "eseninsents = sentsmaker(e_texts)"
      ],
      "execution_count": 31,
      "outputs": []
    },
    {
      "cell_type": "code",
      "metadata": {
        "id": "kaCtXvDl65hO",
        "outputId": "13f69e7f-2d59-4506-d556-ab0c8807f536",
        "colab": {
          "base_uri": "https://localhost:8080/",
          "height": 286
        }
      },
      "source": [
        "!pip install git+https://github.com/nlpub/pymystem3"
      ],
      "execution_count": 32,
      "outputs": [
        {
          "output_type": "stream",
          "text": [
            "Collecting git+https://github.com/nlpub/pymystem3\n",
            "  Cloning https://github.com/nlpub/pymystem3 to /tmp/pip-req-build-kg879nj8\n",
            "  Running command git clone -q https://github.com/nlpub/pymystem3 /tmp/pip-req-build-kg879nj8\n",
            "Requirement already satisfied (use --upgrade to upgrade): pymystem3==0.2.0 from git+https://github.com/nlpub/pymystem3 in /usr/local/lib/python3.6/dist-packages\n",
            "Requirement already satisfied: requests in /usr/local/lib/python3.6/dist-packages (from pymystem3==0.2.0) (2.23.0)\n",
            "Requirement already satisfied: certifi>=2017.4.17 in /usr/local/lib/python3.6/dist-packages (from requests->pymystem3==0.2.0) (2020.6.20)\n",
            "Requirement already satisfied: idna<3,>=2.5 in /usr/local/lib/python3.6/dist-packages (from requests->pymystem3==0.2.0) (2.10)\n",
            "Requirement already satisfied: chardet<4,>=3.0.2 in /usr/local/lib/python3.6/dist-packages (from requests->pymystem3==0.2.0) (3.0.4)\n",
            "Requirement already satisfied: urllib3!=1.25.0,!=1.25.1,<1.26,>=1.21.1 in /usr/local/lib/python3.6/dist-packages (from requests->pymystem3==0.2.0) (1.24.3)\n",
            "Building wheels for collected packages: pymystem3\n",
            "  Building wheel for pymystem3 (setup.py) ... \u001b[?25l\u001b[?25hdone\n",
            "  Created wheel for pymystem3: filename=pymystem3-0.2.0-cp36-none-any.whl size=9922 sha256=581c3636c246e781ea366cf6d199a73e036149cc23edd12900f8141d9e1a3563\n",
            "  Stored in directory: /tmp/pip-ephem-wheel-cache-9exz4fj_/wheels/7d/75/c2/216a594291dee680749ce12c60d16125cfe1f363059e7163dc\n",
            "Successfully built pymystem3\n"
          ],
          "name": "stdout"
        }
      ]
    },
    {
      "cell_type": "code",
      "metadata": {
        "id": "6FKmppTq7HTL",
        "outputId": "2ae0a346-eb18-429f-d919-143bbde05c2e",
        "colab": {
          "base_uri": "https://localhost:8080/",
          "height": 35
        }
      },
      "source": [
        "from pymystem3 import Mystem\n",
        "m = Mystem()"
      ],
      "execution_count": 33,
      "outputs": [
        {
          "output_type": "stream",
          "text": [
            "Installing mystem to /root/.local/bin/mystem from http://download.cdn.yandex.net/mystem/mystem-3.1-linux-64bit.tar.gz\n"
          ],
          "name": "stderr"
        }
      ]
    },
    {
      "cell_type": "code",
      "metadata": {
        "id": "haGZb2DK69Hc",
        "outputId": "36ece67d-4bc1-4e6e-fad4-9fa00875dc6c",
        "colab": {
          "base_uri": "https://localhost:8080/",
          "height": 319
        }
      },
      "source": [
        "!wget http://download.cdn.yandex.net/mystem/mystem-3.0-linux3.1-64bit.tar.gz\n",
        "!tar -xvf mystem-3.0-linux3.1-64bit.tar.gz\n",
        "!cp mystem /root/.local/bin/mystem"
      ],
      "execution_count": 34,
      "outputs": [
        {
          "output_type": "stream",
          "text": [
            "--2020-10-22 10:43:56--  http://download.cdn.yandex.net/mystem/mystem-3.0-linux3.1-64bit.tar.gz\n",
            "Resolving download.cdn.yandex.net (download.cdn.yandex.net)... 5.45.205.245, 5.45.205.241, 5.45.205.244, ...\n",
            "Connecting to download.cdn.yandex.net (download.cdn.yandex.net)|5.45.205.245|:80... connected.\n",
            "HTTP request sent, awaiting response... 302 Found\n",
            "Location: http://cache-mskm906.cdn.yandex.net/download.cdn.yandex.net/mystem/mystem-3.0-linux3.1-64bit.tar.gz [following]\n",
            "--2020-10-22 10:43:57--  http://cache-mskm906.cdn.yandex.net/download.cdn.yandex.net/mystem/mystem-3.0-linux3.1-64bit.tar.gz\n",
            "Resolving cache-mskm906.cdn.yandex.net (cache-mskm906.cdn.yandex.net)... 5.45.220.16, 2a02:6b8:0:2002::17\n",
            "Connecting to cache-mskm906.cdn.yandex.net (cache-mskm906.cdn.yandex.net)|5.45.220.16|:80... connected.\n",
            "HTTP request sent, awaiting response... 200 OK\n",
            "Length: 16457938 (16M) [application/octet-stream]\n",
            "Saving to: ‘mystem-3.0-linux3.1-64bit.tar.gz’\n",
            "\n",
            "mystem-3.0-linux3.1 100%[===================>]  15.70M  4.85MB/s    in 3.8s    \n",
            "\n",
            "2020-10-22 10:44:02 (4.10 MB/s) - ‘mystem-3.0-linux3.1-64bit.tar.gz’ saved [16457938/16457938]\n",
            "\n",
            "mystem\n"
          ],
          "name": "stdout"
        }
      ]
    },
    {
      "cell_type": "code",
      "metadata": {
        "id": "g5Z1vnI39auX"
      },
      "source": [
        "def makedata(sent):\n",
        "  sentwp = []\n",
        "  ana = m.analyze(sent)\n",
        "  for word in ana:\n",
        "    #print(word)\n",
        "    if 'analysis' in word:\n",
        "      if word['analysis'] != []:\n",
        "        gr = word['analysis'][0]['gr']\n",
        "        pos = gr.split('=')[0].split(',')[0]\n",
        "        lex = word['analysis'][0]['lex']  \n",
        "        form = word['text'].lower()\n",
        "      else:\n",
        "        pos = 'null'\n",
        "        lex = 'null'\n",
        "        form = 'null'\n",
        "      sentwp.append([lex, pos, form])\n",
        "  #print(sentwp)\n",
        "  lexems = []\n",
        "  poses = []\n",
        "  forms = []\n",
        "  for i in sentwp:\n",
        "    lexems.append(i[0])\n",
        "    poses.append(i[1])\n",
        "    forms.append(i[2])\n",
        "  full = [sent, lexems, poses, forms]\n",
        "  return full"
      ],
      "execution_count": 63,
      "outputs": []
    },
    {
      "cell_type": "code",
      "metadata": {
        "id": "zFYKeWmXMUCT"
      },
      "source": [
        "def allinone(sents):\n",
        "  allinfos = []\n",
        "  for i in sents:\n",
        "    sentinfos = []\n",
        "    for j in i[1]:\n",
        "      sentinfo = makedata(j)\n",
        "      sentinfo.append(i[0])\n",
        "      sentinfos.append(sentinfo)\n",
        "    allinfos.extend(sentinfos)\n",
        "  return(allinfos)"
      ],
      "execution_count": 64,
      "outputs": []
    },
    {
      "cell_type": "code",
      "metadata": {
        "id": "NQh0E5qVM5yu"
      },
      "source": [
        "allkrug = allinone(krugsents)\n",
        "allesenin = allinone(eseninsents)"
      ],
      "execution_count": 65,
      "outputs": []
    },
    {
      "cell_type": "code",
      "metadata": {
        "id": "3RUNO2DnNOvH"
      },
      "source": [
        "corpus = allkrug + allesenin"
      ],
      "execution_count": 66,
      "outputs": []
    },
    {
      "cell_type": "code",
      "metadata": {
        "id": "Yoz-Z9QaH1yH",
        "outputId": "c4905a68-05a6-41a6-b13c-4f11e31fc713",
        "colab": {
          "base_uri": "https://localhost:8080/",
          "height": 1000
        }
      },
      "source": [
        "corpus[0]"
      ],
      "execution_count": 67,
      "outputs": [
        {
          "output_type": "execute_result",
          "data": {
            "text/plain": [
              "[' Ну кто бы знал, что это мент, ведь он был в штатском,  А Осип зарядил не разобрав в пылу.',\n",
              " ['ну',\n",
              "  'кто',\n",
              "  'бы',\n",
              "  'знать',\n",
              "  'что',\n",
              "  'это',\n",
              "  'мент',\n",
              "  'ведь',\n",
              "  'он',\n",
              "  'быть',\n",
              "  'в',\n",
              "  'штатское',\n",
              "  'а',\n",
              "  'осип',\n",
              "  'заряжать',\n",
              "  'не',\n",
              "  'разбирать',\n",
              "  'в',\n",
              "  'пыл'],\n",
              " ['PART',\n",
              "  'SPRO',\n",
              "  'PART',\n",
              "  'V',\n",
              "  'CONJ',\n",
              "  'SPRO',\n",
              "  'S',\n",
              "  'CONJ',\n",
              "  'SPRO',\n",
              "  'V',\n",
              "  'PR',\n",
              "  'S',\n",
              "  'CONJ',\n",
              "  'S',\n",
              "  'V',\n",
              "  'PART',\n",
              "  'V',\n",
              "  'PR',\n",
              "  'S'],\n",
              " ['ну',\n",
              "  'кто',\n",
              "  'бы',\n",
              "  'знал',\n",
              "  'что',\n",
              "  'это',\n",
              "  'мент',\n",
              "  'ведь',\n",
              "  'он',\n",
              "  'был',\n",
              "  'в',\n",
              "  'штатском',\n",
              "  'а',\n",
              "  'осип',\n",
              "  'зарядил',\n",
              "  'не',\n",
              "  'разобрав',\n",
              "  'в',\n",
              "  'пылу'],\n",
              " 'Михаил Круг: 1, 2, 3 по почкам']"
            ]
          },
          "metadata": {
            "tags": []
          },
          "execution_count": 67
        }
      ]
    },
    {
      "cell_type": "code",
      "metadata": {
        "id": "zX6Au-kaNj5T"
      },
      "source": [
        "corpus = [i for i in corpus if len(i[1])<40 and i[4] != 'Михаил Круг: Селигер' and i[4] != 'С. А. Есенин. Ключи Марии. ина.']"
      ],
      "execution_count": 68,
      "outputs": []
    },
    {
      "cell_type": "code",
      "metadata": {
        "id": "mqfLE_bLNmg6"
      },
      "source": [
        "with open('corpus.txt', 'w', encoding='utf-8') as f:\n",
        "  for sent in corpus:\n",
        "    f.write(sent[0]+'\\n')\n",
        "    for word in sent[1]:\n",
        "      f.write(word+' ')\n",
        "    f.write('\\n')\n",
        "    for pos in sent[2]:\n",
        "      f.write(pos+' ')\n",
        "    f.write('\\n')\n",
        "    for form in sent[3]:\n",
        "      f.write(form+' ')\n",
        "    f.write('\\n'+sent[4]+'\\n\\n')"
      ],
      "execution_count": 69,
      "outputs": []
    },
    {
      "cell_type": "code",
      "metadata": {
        "id": "cPacXD3pPJTR"
      },
      "source": [
        "with open('corpus.txt', encoding='utf-8') as f:\n",
        "  line = f.read()\n",
        "\n",
        "import re\n",
        "line = re.sub(' \\n', '\\n', line)\n",
        "\n",
        "corp = []\n",
        "sents = line.split('\\n\\n')\n",
        "for sent in sents:\n",
        "  chunks = sent.split('\\n')\n",
        "  if len(chunks) == 5:\n",
        "    l = []\n",
        "    l.append(chunks[0])\n",
        "    lexemes = chunks[1].split(' ')\n",
        "    l.append(lexemes)\n",
        "    poses = chunks[2].split(' ')\n",
        "    l.append(poses)\n",
        "    forms = chunks[3].split(' ')\n",
        "    l.append(forms)\n",
        "    l.append(chunks[4])\n",
        "    corp.append(l)"
      ],
      "execution_count": 72,
      "outputs": []
    }
  ]
}