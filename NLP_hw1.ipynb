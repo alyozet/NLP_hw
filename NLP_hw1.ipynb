{
  "nbformat": 4,
  "nbformat_minor": 0,
  "metadata": {
    "colab": {
      "name": "NLP_hw1.ipynb",
      "provenance": []
    },
    "kernelspec": {
      "name": "python3",
      "display_name": "Python 3"
    }
  },
  "cells": [
    {
      "cell_type": "markdown",
      "metadata": {
        "id": "4IrpZ6tURf6v"
      },
      "source": [
        "Домашнее задание по АОТ"
      ]
    },
    {
      "cell_type": "code",
      "metadata": {
        "id": "7VF_3T3t8fRW",
        "outputId": "029d5adf-aea7-4b3d-d6ef-7cae9eb2f0fa",
        "colab": {
          "base_uri": "https://localhost:8080/",
          "height": 349
        }
      },
      "source": [
        "! pip install requests\n",
        "! pip install nltk\n",
        "! pip install pymorphy2"
      ],
      "execution_count": 1,
      "outputs": [
        {
          "output_type": "stream",
          "text": [
            "Requirement already satisfied: requests in /usr/local/lib/python3.6/dist-packages (2.23.0)\n",
            "Requirement already satisfied: certifi>=2017.4.17 in /usr/local/lib/python3.6/dist-packages (from requests) (2020.6.20)\n",
            "Requirement already satisfied: urllib3!=1.25.0,!=1.25.1,<1.26,>=1.21.1 in /usr/local/lib/python3.6/dist-packages (from requests) (1.24.3)\n",
            "Requirement already satisfied: idna<3,>=2.5 in /usr/local/lib/python3.6/dist-packages (from requests) (2.10)\n",
            "Requirement already satisfied: chardet<4,>=3.0.2 in /usr/local/lib/python3.6/dist-packages (from requests) (3.0.4)\n",
            "Requirement already satisfied: nltk in /usr/local/lib/python3.6/dist-packages (3.2.5)\n",
            "Requirement already satisfied: six in /usr/local/lib/python3.6/dist-packages (from nltk) (1.15.0)\n",
            "Collecting pymorphy2\n",
            "\u001b[?25l  Downloading https://files.pythonhosted.org/packages/07/57/b2ff2fae3376d4f3c697b9886b64a54b476e1a332c67eee9f88e7f1ae8c9/pymorphy2-0.9.1-py3-none-any.whl (55kB)\n",
            "\u001b[K     |████████████████████████████████| 61kB 2.8MB/s \n",
            "\u001b[?25hRequirement already satisfied: docopt>=0.6 in /usr/local/lib/python3.6/dist-packages (from pymorphy2) (0.6.2)\n",
            "Collecting pymorphy2-dicts-ru<3.0,>=2.4\n",
            "\u001b[?25l  Downloading https://files.pythonhosted.org/packages/7c/9b/358faaff410f65a4ad159275e897b5956dcb20576c5b8e764b971c1634d7/pymorphy2_dicts_ru-2.4.404381.4453942-py2.py3-none-any.whl (8.0MB)\n",
            "\u001b[K     |████████████████████████████████| 8.0MB 11.3MB/s \n",
            "\u001b[?25hCollecting dawg-python>=0.7.1\n",
            "  Downloading https://files.pythonhosted.org/packages/6a/84/ff1ce2071d4c650ec85745766c0047ccc3b5036f1d03559fd46bb38b5eeb/DAWG_Python-0.7.2-py2.py3-none-any.whl\n",
            "Installing collected packages: pymorphy2-dicts-ru, dawg-python, pymorphy2\n",
            "Successfully installed dawg-python-0.7.2 pymorphy2-0.9.1 pymorphy2-dicts-ru-2.4.404381.4453942\n"
          ],
          "name": "stdout"
        }
      ]
    },
    {
      "cell_type": "code",
      "metadata": {
        "id": "CZ1QuzpR8whA",
        "outputId": "14fe4137-41a2-4453-e36d-7411393ca5ae",
        "colab": {
          "base_uri": "https://localhost:8080/",
          "height": 69
        }
      },
      "source": [
        "import requests\n",
        "import re\n",
        "import nltk\n",
        "from nltk.tokenize import word_tokenize\n",
        "from pymorphy2 import MorphAnalyzer\n",
        "morph = MorphAnalyzer()\n",
        "from collections import Counter\n",
        "nltk.download('punkt')"
      ],
      "execution_count": 47,
      "outputs": [
        {
          "output_type": "stream",
          "text": [
            "[nltk_data] Downloading package punkt to /root/nltk_data...\n",
            "[nltk_data]   Unzipping tokenizers/punkt.zip.\n"
          ],
          "name": "stdout"
        },
        {
          "output_type": "execute_result",
          "data": {
            "text/plain": [
              "True"
            ]
          },
          "metadata": {
            "tags": []
          },
          "execution_count": 47
        }
      ]
    },
    {
      "cell_type": "markdown",
      "metadata": {
        "id": "MU5GAPt3Rnw3"
      },
      "source": [
        "Я взяла сайт LiveLib, отзывы на книгу \"девушка в поезде\".\n",
        "\n",
        "Напишем штуку, которая их собирает"
      ]
    },
    {
      "cell_type": "code",
      "metadata": {
        "id": "_6C0Xcrx9DMr"
      },
      "source": [
        "def html_collect():\n",
        "  result = requests.get('https://www.livelib.ru/book/1001526145/reviews-devushka-v-poezde-pola-hokins')\n",
        "  result.encoding = 'utf-8'\n",
        "  prob = result.text\n",
        "\n",
        "  html = [prob]\n",
        "  for i in range(2, 20):\n",
        "    link = 'https://www.livelib.ru/book/1001526145/reviews/~'+str(i)+'#reviews'\n",
        "    result = requests.get(link)\n",
        "    result.encoding = 'utf-8'\n",
        "    html.append(result.text)\n",
        "  return(html)"
      ],
      "execution_count": 6,
      "outputs": []
    },
    {
      "cell_type": "markdown",
      "metadata": {
        "id": "qRXI89gxR6GW"
      },
      "source": [
        "Один раз соберем их чтобы лишний раз потом не дергать"
      ]
    },
    {
      "cell_type": "code",
      "metadata": {
        "id": "V6Y5AbKN_Ug2"
      },
      "source": [
        "temp = html_collect()"
      ],
      "execution_count": 7,
      "outputs": []
    },
    {
      "cell_type": "markdown",
      "metadata": {
        "id": "F1vmJeWSR_6e"
      },
      "source": [
        "Эта функция ищет в коде страницы то, что нам нужно: сами отзывы и оценки"
      ]
    },
    {
      "cell_type": "code",
      "metadata": {
        "id": "McMHzRCr9we_"
      },
      "source": [
        "def rev_search(html):\n",
        "  revs = []\n",
        "  for i in html:\n",
        "    rev_all = re.compile('<span class=\"lenta-card__mymark\">(.*?)</span>.*?<div id=\"lenta-card__text-review-escaped\">.*?<p><p>(.*?)</p></p>', flags = re.DOTALL)\n",
        "    revs.append(rev_all.findall(i))\n",
        "  return(revs)"
      ],
      "execution_count": 8,
      "outputs": []
    },
    {
      "cell_type": "markdown",
      "metadata": {
        "id": "PrzL44cUSJPr"
      },
      "source": [
        "Эта функция аккуратно собирает их в список"
      ]
    },
    {
      "cell_type": "code",
      "metadata": {
        "id": "wRIcNt9RAKeb"
      },
      "source": [
        "def make_rev_list(revs):\n",
        "  revlist = []\n",
        "  for i in revs[0]:\n",
        "    revlist.append(i)\n",
        "  for i in range(1, len(revs)):\n",
        "    for j in range(1, len(revs[i])):\n",
        "      revlist.append(revs[i][j])\n",
        "  return(revlist)"
      ],
      "execution_count": 32,
      "outputs": []
    },
    {
      "cell_type": "markdown",
      "metadata": {
        "id": "elu6SdGSSM7b"
      },
      "source": [
        "Эта функция чистит содержимое от тегов и переносов строки"
      ]
    },
    {
      "cell_type": "code",
      "metadata": {
        "id": "_jA7zK9k-9R6"
      },
      "source": [
        "def rev_clean(revs):\n",
        "  clean_revs=[]\n",
        "  for i in revs:\n",
        "    x = re.sub(r'\\n', '', i[0])\n",
        "    x = re.sub(' ', '', x)\n",
        "    y = re.sub('<.*?>', '', i[1])\n",
        "    y = re.sub('\\n', ' ', y)\n",
        "    y = re.sub('  ', ' ', y)\n",
        "    clean_revs.append([y, x])\n",
        "  return(clean_revs)"
      ],
      "execution_count": 9,
      "outputs": []
    },
    {
      "cell_type": "markdown",
      "metadata": {
        "id": "slWbHNtTSSUc"
      },
      "source": [
        "Эта функция считает, что оценка 4 или выше это положительный отзыв, 2.5 или ниже --- отрицательный"
      ]
    },
    {
      "cell_type": "code",
      "metadata": {
        "id": "ud5Mz0g1Ax5_"
      },
      "source": [
        "def rating(x):\n",
        "  if float(x) >= 4:\n",
        "    r = 'good'\n",
        "  elif float(x) <= 2.5:\n",
        "    r = 'bad'\n",
        "  else:\n",
        "    r = ''\n",
        "  return(r)"
      ],
      "execution_count": 27,
      "outputs": []
    },
    {
      "cell_type": "markdown",
      "metadata": {
        "id": "uxhIFk2wSfHh"
      },
      "source": [
        "Эта функция находит создает списки положительных и отрицательных рецензий"
      ]
    },
    {
      "cell_type": "code",
      "metadata": {
        "id": "Y8HnTTYgBWa8"
      },
      "source": [
        "def find_polar(revs):\n",
        "  good = [i for i in revs if rating(i[1]) == 'good']\n",
        "  bad = [i for i in revs if rating(i[1]) == 'bad']\n",
        "  return(good, bad)"
      ],
      "execution_count": 28,
      "outputs": []
    },
    {
      "cell_type": "markdown",
      "metadata": {
        "id": "w2cilkdhSx_g"
      },
      "source": [
        "Эта функция делает нам списки из 30 положительных и 30 отрицательных отзывов как надо в задании"
      ]
    },
    {
      "cell_type": "code",
      "metadata": {
        "id": "yd_51kjNExUJ"
      },
      "source": [
        "def make_data(good, bad):\n",
        "  good1 = good[:31]\n",
        "  del good1[24]\n",
        "  bad1 = bad[:30]\n",
        "  test1 = good[35:40] + bad[31:36]\n",
        "  return good1, bad1, test1"
      ],
      "execution_count": 42,
      "outputs": []
    },
    {
      "cell_type": "markdown",
      "metadata": {
        "id": "QQActVm1SzpX"
      },
      "source": [
        "Эта функция разбивает отзывы определенной полярности на слова, приводит их к нижнему регистру, чистит и лемматизирует"
      ]
    },
    {
      "cell_type": "code",
      "metadata": {
        "id": "j1Ax_pG9FepY"
      },
      "source": [
        "def polar_words(polar):\n",
        "  pwords = []\n",
        "  for i in polar:\n",
        "    pw = word_tokenize(i[0])\n",
        "    pwords.extend(pw)\n",
        "  smallpwords = [w.lower() for w in pwords if w.isalpha()]\n",
        "  polarwords = [morph.parse(w)[0].normal_form for w in smallpwords] \n",
        "  return polarwords"
      ],
      "execution_count": 93,
      "outputs": []
    },
    {
      "cell_type": "markdown",
      "metadata": {
        "id": "Hv3qTyjNTFe1"
      },
      "source": [
        "Эта функция чистит списки от слов, которые есть в списке другой полярности (то есть оставляет только слова из положительных или отрицательных отзывов)"
      ]
    },
    {
      "cell_type": "code",
      "metadata": {
        "id": "xPD8Zr2nIpcj"
      },
      "source": [
        "def only_words(polar1, polar2):\n",
        "  return [w for w in polar1 if w not in polar2]"
      ],
      "execution_count": 58,
      "outputs": []
    },
    {
      "cell_type": "markdown",
      "metadata": {
        "id": "RlcfTSyHTWQu"
      },
      "source": [
        "Эта функция убирает слова, которые встречались меньше 3 раз"
      ]
    },
    {
      "cell_type": "code",
      "metadata": {
        "id": "qjLY_KY4K-dk"
      },
      "source": [
        "def only_freq(polar):\n",
        "  pcounter = Counter(polar)\n",
        "  return [w for w, val in pcounter.items() if val > 2]"
      ],
      "execution_count": 120,
      "outputs": []
    },
    {
      "cell_type": "markdown",
      "metadata": {
        "id": "zeQZ2pR1Tdck"
      },
      "source": [
        "Эта функция считает полярность отзыва. Она считает сколько в нем положительных слов к общему числу положительных слов и аналогично для отрицательных. Так логичнее, потому что отрицательных слов получилось больше, чем положительных."
      ]
    },
    {
      "cell_type": "code",
      "metadata": {
        "id": "PAuxHi_YN23A"
      },
      "source": [
        "def polar(review, good, bad):\n",
        "  rg = 0\n",
        "  rb = 0\n",
        "  wrd = word_tokenize(review)\n",
        "  wrd1 = [w.lower() for w in wrd if w.isalpha()]\n",
        "  lms = [morph.parse(w)[0].normal_form for w in wrd1]\n",
        "  for i in lms:\n",
        "    if i in good:\n",
        "      rg += 1\n",
        "    elif i in bad:\n",
        "      rb += 1\n",
        "  if rg/len(good)>rb/len(bad):\n",
        "    p = 'good'\n",
        "  else:\n",
        "    p = 'bad'\n",
        "  return(p)"
      ],
      "execution_count": 98,
      "outputs": []
    },
    {
      "cell_type": "markdown",
      "metadata": {
        "id": "TLw1pr3sT_es"
      },
      "source": [
        "Эта функция считает точность для тестового набора отзывов."
      ]
    },
    {
      "cell_type": "code",
      "metadata": {
        "id": "28pU_qJFOgfI"
      },
      "source": [
        "def accuracy(test, good, bad):\n",
        "  acc = 0\n",
        "  for i in test:\n",
        "    if polar(i[0], good, bad) == rating(i[1]):\n",
        "      acc += 1\n",
        "  return(acc/len(test))"
      ],
      "execution_count": 105,
      "outputs": []
    },
    {
      "cell_type": "markdown",
      "metadata": {
        "id": "UchQLf77ULFk"
      },
      "source": [
        "Здесь мы применяем все функции по очереди чтоб получить результат."
      ]
    },
    {
      "cell_type": "code",
      "metadata": {
        "id": "7Zkuo8tuPhZC",
        "outputId": "a8284805-afc1-4460-afb2-fbb11a5e43af",
        "colab": {
          "base_uri": "https://localhost:8080/",
          "height": 35
        }
      },
      "source": [
        "reviews = rev_clean(make_rev_list(rev_search(temp))) # все отзывы\n",
        "good0, bad0 = find_polar(reviews) # разделили на хорошие и плохие\n",
        "goodrevs, badrevs, test = make_data(good0, bad0) # создали данные\n",
        "goodwords = polar_words(goodrevs) # нашли слова из хороших отзывов\n",
        "badwords = polar_words(badrevs) # нашли слова из плохих отзывов\n",
        "freqgood = only_freq(only_words(goodwords, badwords)) # взяли только частотные и только из хороших\n",
        "freqbad = only_freq(only_words(badwords, goodwords)) # взяли только частотные и только из плохих\n",
        "accuracy(test, freqgood, freqbad) # посчитали точность"
      ],
      "execution_count": 121,
      "outputs": [
        {
          "output_type": "execute_result",
          "data": {
            "text/plain": [
              "0.7"
            ]
          },
          "metadata": {
            "tags": []
          },
          "execution_count": 121
        }
      ]
    },
    {
      "cell_type": "markdown",
      "metadata": {
        "id": "JM1yKvlJUwEU"
      },
      "source": [
        "Ура, неплохая точность, 7/10! Но вряд ли точности, подсчитанной на 10 отзывах можно доверять :)"
      ]
    },
    {
      "cell_type": "markdown",
      "metadata": {
        "id": "hB3KdKDNVAkb"
      },
      "source": [
        "Как улучшить программу?\n",
        "\n",
        "Во-первых, как всегда, взять гораааздо больше рецензий. После этого игра с весами (насколько нечастотные слова можно оставить) имела бы больше смысла (я играла, в моем случае >2 оптимальный вариант).\n",
        "\n",
        "Во-вторых можно попробовать находить частотные для только хороших или плохих отзывов биграммы. Не факт что это поможет, например, в плохих отзывах будет биграмма \"ужасная книга\", но слово \"ужасный\" скорее всего и так относится к плохим словам. "
      ]
    }
  ]
}